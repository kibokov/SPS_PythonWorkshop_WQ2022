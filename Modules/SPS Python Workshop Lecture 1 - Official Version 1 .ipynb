{
 "cells": [
  {
   "cell_type": "markdown",
   "metadata": {},
   "source": [
    "# SPS 'Python for Research' Workshop Series - Lecture 1 (01/17/2021)"
   ]
  },
  {
   "cell_type": "markdown",
   "metadata": {},
   "source": [
    "Instructor for today's workshop: William Cerny (willcerny@gmail.com)"
   ]
  },
  {
   "cell_type": "markdown",
   "metadata": {},
   "source": [
    "**Welcome to the first session of UChicago SPS' introductory Python workshop series!** <br/><br/> This is likely the first of 6 live sessions over Zoom. On your average week, Viraj and I will lecture for 40-50 minutes using a Jupyter notebook just like this one. These notebooks were designed to be If you have questions at any point during the live session, absolutely feel free to interrupt us to ask - odds are, someone else will have the same question. <br/><br/> In a given week, we may also hold an 'office hour' for further Q&A, and we may also add completely optional bonus video lectures covering some additional topics that might be useful but are slightly more obscure or advanced. "
   ]
  },
  {
   "cell_type": "markdown",
   "metadata": {},
   "source": [
    "# Topics for the Day"
   ]
  },
  {
   "cell_type": "markdown",
   "metadata": {},
   "source": [
    "**- Getting around a Jupyter Notebook <br/>- Why Python? Strengths and Weaknesses** <br/> **- Arithmetic** <br/>\n",
    "**- Variables and Data Types** <br/>\n",
    "**- Lists and List Comprehension** <br/>"
   ]
  },
  {
   "cell_type": "markdown",
   "metadata": {},
   "source": [
    "# -----------------------------------------------------------------------------------------------------------"
   ]
  },
  {
   "cell_type": "markdown",
   "metadata": {},
   "source": [
    "#  Preliminaries: Why Python?"
   ]
  },
  {
   "cell_type": "markdown",
   "metadata": {},
   "source": [
    "### 1. Popularity "
   ]
  },
  {
   "cell_type": "markdown",
   "metadata": {},
   "source": [
    "![Language Ranking](https://www.zdnet.com/a/img/resize/28257997cfe29980d21267ba9f72322001f3f65d/2021/11/04/20d04f40-b6dc-4066-ba98-92f2c02e2fc1/slashdata-programming-language-community-size-q32021.jpg?fit=bounds&auto=webp)"
   ]
  },
  {
   "cell_type": "markdown",
   "metadata": {},
   "source": [
    "Note above that Python is listed as being good for \"DS/ML\": Data Science and Machine Learning"
   ]
  },
  {
   "cell_type": "markdown",
   "metadata": {},
   "source": [
    "### 2. Strong User Community"
   ]
  },
  {
   "cell_type": "markdown",
   "metadata": {},
   "source": [
    "![Language Ranking](https://www.stxnext.com/hs-fs/hubfs/Why%20use%20Python%20-%20StackOverflow.png?width=749&name=Why%20use%20Python%20-%20StackOverflow.png) "
   ]
  },
  {
   "cell_type": "markdown",
   "metadata": {},
   "source": [
    "### 3. Extendability"
   ]
  },
  {
   "cell_type": "markdown",
   "metadata": {},
   "source": [
    "Python as a \"base language\" is only moderately powerful. However, it can be very easily extended using packages/libraries. We'll go into more depth about what that means in future weeks, but know that there are something like **350,000 packages** for Python according to https://pypi.org/"
   ]
  },
  {
   "cell_type": "markdown",
   "metadata": {},
   "source": [
    "#### which makes it great for research applications!"
   ]
  },
  {
   "cell_type": "markdown",
   "metadata": {},
   "source": [
    "Examples of scientific packages in Python that are very often used in science: <br/> **- scipy** (scientific Python) <br/> **- numpy** (numerical Python) <br/> **- astropy** (astronomical Python) <br/> **- and so much more** "
   ]
  },
  {
   "cell_type": "markdown",
   "metadata": {},
   "source": [
    "### 4. (Relatively) Simple Syntax"
   ]
  },
  {
   "cell_type": "markdown",
   "metadata": {},
   "source": [
    "Reading Python code is often fairly easy, since function names are typically written to be descriptive. Also, no pesky semicolons at the end of lines :)"
   ]
  },
  {
   "cell_type": "markdown",
   "metadata": {},
   "source": [
    "###  Your first code: printing the classic \"Hello World\""
   ]
  },
  {
   "cell_type": "code",
   "execution_count": null,
   "metadata": {},
   "outputs": [],
   "source": []
  },
  {
   "cell_type": "markdown",
   "metadata": {},
   "source": [
    "What if we just want to display the code without running it? Just add a # !"
   ]
  },
  {
   "cell_type": "code",
   "execution_count": null,
   "metadata": {},
   "outputs": [],
   "source": []
  },
  {
   "cell_type": "markdown",
   "metadata": {},
   "source": [
    "#### Compare to the same code but written in the Java language:"
   ]
  },
  {
   "cell_type": "raw",
   "metadata": {},
   "source": [
    "class HelloWorld { \n",
    "    public static void main(String[] args) { \n",
    "        System.out.println(\"Hello, World!\");  \n",
    "        \n",
    "    } \n",
    "}"
   ]
  },
  {
   "cell_type": "markdown",
   "metadata": {},
   "source": [
    "## Weaknesses of Python"
   ]
  },
  {
   "cell_type": "markdown",
   "metadata": {},
   "source": [
    "- Probably not a great choice for web development or making mobile apps  <br/>\n",
    "- Can be slower than Java, C/C++, etc. This is probably not a significant concern for 99% of users. For those who know a bit about computing, this is because Python is \"interpreted\" and not \"compiled\". <br/> \n",
    "- Its a somewhat unique language (unlike C and Java, for example, which are arguably fairly similar to each other)"
   ]
  },
  {
   "cell_type": "markdown",
   "metadata": {},
   "source": [
    "# -----------------------------------------------------------------------------------------------------------"
   ]
  },
  {
   "cell_type": "markdown",
   "metadata": {},
   "source": [
    "# Arithmetic in Python"
   ]
  },
  {
   "cell_type": "markdown",
   "metadata": {},
   "source": [
    "### Addition, Subtraction"
   ]
  },
  {
   "cell_type": "code",
   "execution_count": null,
   "metadata": {},
   "outputs": [],
   "source": [
    "print(2 + 2)"
   ]
  },
  {
   "cell_type": "code",
   "execution_count": null,
   "metadata": {},
   "outputs": [],
   "source": [
    "print(2 - 2)"
   ]
  },
  {
   "cell_type": "markdown",
   "metadata": {},
   "source": [
    "What happens if you don't use \"print\"?"
   ]
  },
  {
   "cell_type": "code",
   "execution_count": null,
   "metadata": {},
   "outputs": [],
   "source": []
  },
  {
   "cell_type": "markdown",
   "metadata": {},
   "source": [
    "### Multiplication"
   ]
  },
  {
   "cell_type": "code",
   "execution_count": null,
   "metadata": {},
   "outputs": [],
   "source": [
    "print(3 * 2)"
   ]
  },
  {
   "cell_type": "markdown",
   "metadata": {},
   "source": [
    "### Division"
   ]
  },
  {
   "cell_type": "code",
   "execution_count": null,
   "metadata": {},
   "outputs": [],
   "source": [
    "print(8 / 4 ) "
   ]
  },
  {
   "cell_type": "markdown",
   "metadata": {},
   "source": [
    "Question: why does it have 2.0 instead of just \"2\"?"
   ]
  },
  {
   "cell_type": "markdown",
   "metadata": {},
   "source": [
    "### Powers"
   ]
  },
  {
   "cell_type": "code",
   "execution_count": null,
   "metadata": {},
   "outputs": [],
   "source": [
    "print(2**4)"
   ]
  },
  {
   "cell_type": "markdown",
   "metadata": {},
   "source": [
    "Question: how would one do a square root?"
   ]
  },
  {
   "cell_type": "code",
   "execution_count": null,
   "metadata": {},
   "outputs": [],
   "source": []
  },
  {
   "cell_type": "markdown",
   "metadata": {},
   "source": [
    "### Remainder/Modulo"
   ]
  },
  {
   "cell_type": "code",
   "execution_count": null,
   "metadata": {},
   "outputs": [],
   "source": [
    "print(10 % 3)"
   ]
  },
  {
   "cell_type": "code",
   "execution_count": null,
   "metadata": {},
   "outputs": [],
   "source": [
    "print(6 % 3)"
   ]
  },
  {
   "cell_type": "markdown",
   "metadata": {},
   "source": [
    "### That was all OK, but how do we store these numbers somewhere useful?"
   ]
  },
  {
   "cell_type": "markdown",
   "metadata": {},
   "source": [
    "# -----------------------------------------------------------------------------------------------------------"
   ]
  },
  {
   "cell_type": "markdown",
   "metadata": {},
   "source": [
    "# Variables and Data Types"
   ]
  },
  {
   "cell_type": "markdown",
   "metadata": {},
   "source": [
    "To really make use of Python as a tool for doing math, we really want to be able to store all the operands in our mathematical expresssions. To do so, we need to define **variables**. These function as ways to store/represent \"stuff\" in Python, whether that be numbers, words, True or False values, etc. <br/> <br/> **Generically, this is how you define a variable in Python**:"
   ]
  },
  {
   "cell_type": "code",
   "execution_count": null,
   "metadata": {},
   "outputs": [],
   "source": [
    "x = 6\n",
    "width = 7.0\n",
    "animal_name = 'cat'\n",
    "dogs_are_friends = True "
   ]
  },
  {
   "cell_type": "markdown",
   "metadata": {},
   "source": [
    "Here, the '=' sign is NOT a mathematical statement. A single equals sign is the **assignment operator**: it takes whatever is on the righthand side and stores it in the lefthand side."
   ]
  },
  {
   "cell_type": "markdown",
   "metadata": {},
   "source": [
    "As you can see, you don't need to tell Python any prior information about what you are storing actually is: you can just throw an = sign in between and it will handle it from there. This is what is sometimes called \"dynamic memory allocation\" and is not a feature of many other programming languages."
   ]
  },
  {
   "cell_type": "code",
   "execution_count": null,
   "metadata": {},
   "outputs": [],
   "source": [
    "# Defining two variables in one line of code: possible (but not always recommended)\n",
    "\n",
    "v1, v2 = 6,7\n",
    "print(v1,v2)"
   ]
  },
  {
   "cell_type": "markdown",
   "metadata": {},
   "source": [
    "## There are many data types in Python. Here's a quick list with the most important ones bolded:"
   ]
  },
  {
   "cell_type": "markdown",
   "metadata": {},
   "source": [
    "Numeric Types:\t**int**, **float**, complex <br/>\n",
    "Sequence Types:\t**list**, **tuple**, range <br/>\n",
    "Mapping Type:\tdict <br/>\n",
    "Set Types:\tset, frozenset <br/>\n",
    "Boolean Type:\t**bool** <br/>\n",
    "Binary Types:\tbytes, bytearray, memoryvie <br/>"
   ]
  },
  {
   "cell_type": "markdown",
   "metadata": {},
   "source": [
    "## Integer (int)"
   ]
  },
  {
   "cell_type": "markdown",
   "metadata": {},
   "source": [
    "Integers (int) for short are your run-of-the-mill counting numbers (.., -2, -1, 0, 1, 2.. etc). "
   ]
  },
  {
   "cell_type": "code",
   "execution_count": null,
   "metadata": {},
   "outputs": [],
   "source": [
    "a =  6\n",
    "b = -4 \n",
    "print(a+b, a-b, a * b)"
   ]
  },
  {
   "cell_type": "markdown",
   "metadata": {},
   "source": [
    "To check the datatypes of each variable, one can try:"
   ]
  },
  {
   "cell_type": "code",
   "execution_count": null,
   "metadata": {},
   "outputs": [],
   "source": [
    "type(a)"
   ]
  },
  {
   "cell_type": "markdown",
   "metadata": {},
   "source": [
    "## Numbers with Decimals: Floats"
   ]
  },
  {
   "cell_type": "code",
   "execution_count": null,
   "metadata": {},
   "outputs": [],
   "source": [
    "c =  24\n",
    "d = 7\n",
    "e = c / d \n",
    "print(e)"
   ]
  },
  {
   "cell_type": "code",
   "execution_count": null,
   "metadata": {},
   "outputs": [],
   "source": [
    "print(type(e))"
   ]
  },
  {
   "cell_type": "markdown",
   "metadata": {},
   "source": [
    "As can be seen above, Python automatically recognizes that it needs to use a float variable type for the division of the variable c by the variable d. This is NOT the case in many other programming languages! In Java or C, for example, e would be an integer result equal to 3 "
   ]
  },
  {
   "cell_type": "markdown",
   "metadata": {},
   "source": [
    "What if we want 24 as a decimal rather than integer? We have three options:"
   ]
  },
  {
   "cell_type": "code",
   "execution_count": null,
   "metadata": {},
   "outputs": [],
   "source": [
    "e_test1 = 24\n",
    "print(type(e_test1))"
   ]
  },
  {
   "cell_type": "code",
   "execution_count": null,
   "metadata": {},
   "outputs": [],
   "source": [
    "e_test2 = float(24) \n",
    "print(type(e_test2))"
   ]
  },
  {
   "cell_type": "code",
   "execution_count": null,
   "metadata": {},
   "outputs": [],
   "source": [
    "e_test3 = 24. ### note the decimal # A bit of Practice:place\n",
    "print(type(e_test3))"
   ]
  },
  {
   "cell_type": "code",
   "execution_count": null,
   "metadata": {},
   "outputs": [],
   "source": [
    "e_test4 = 24.0 \n",
    "print(type(e_test4))"
   ]
  },
  {
   "cell_type": "markdown",
   "metadata": {},
   "source": [
    "# Strings"
   ]
  },
  {
   "cell_type": "markdown",
   "metadata": {},
   "source": [
    "Strings are essentially just letters enclosed by pairs of quotes ' '. Almost any common character can be included in a string. For example:"
   ]
  },
  {
   "cell_type": "code",
   "execution_count": null,
   "metadata": {},
   "outputs": [],
   "source": [
    "animal_name = 'cat'\n",
    "print(animal_name)"
   ]
  },
  {
   "cell_type": "code",
   "execution_count": null,
   "metadata": {},
   "outputs": [],
   "source": [
    "identifier = '9575065845'\n",
    "print(identifier)"
   ]
  },
  {
   "cell_type": "markdown",
   "metadata": {},
   "source": [
    "What happens if you add strings? Subtract them?"
   ]
  },
  {
   "cell_type": "code",
   "execution_count": null,
   "metadata": {},
   "outputs": [],
   "source": [
    "animal_name + identifier"
   ]
  },
  {
   "cell_type": "code",
   "execution_count": null,
   "metadata": {},
   "outputs": [],
   "source": [
    "animal_name - identifier"
   ]
  },
  {
   "cell_type": "markdown",
   "metadata": {},
   "source": [
    "### Strings and Printing:"
   ]
  },
  {
   "cell_type": "markdown",
   "metadata": {},
   "source": [
    "What if we want to do some math and print the result? See below:"
   ]
  },
  {
   "cell_type": "code",
   "execution_count": null,
   "metadata": {},
   "outputs": [],
   "source": [
    "temperature_yesterday = 71\n",
    "temperature_today = 79\n",
    "\n",
    "difference = temperature_today - temperature_yesterday\n",
    "print('Today is', difference, 'degrees hotter than yesterday')"
   ]
  },
  {
   "cell_type": "markdown",
   "metadata": {},
   "source": [
    "That is by far the simplest way of doing that task. This relies on the fact that the print() function can take multiple different arguments. We will send some further reading about how you can do this in other ways which might be a bit less messy if you have multiple variables to include in your sentence."
   ]
  },
  {
   "cell_type": "markdown",
   "metadata": {},
   "source": [
    "# Lists"
   ]
  },
  {
   "cell_type": "markdown",
   "metadata": {},
   "source": [
    "Lists are exactly what they sound like: they are lists of \"stuff\" in Python, enclosed by hard brackets [ ]. You can put anything within a list:"
   ]
  },
  {
   "cell_type": "code",
   "execution_count": null,
   "metadata": {},
   "outputs": [],
   "source": [
    "## all the same data types:\n",
    "list_of_animals = ['cat', 'dog', 'frog']\n",
    "print(list_of_animals)"
   ]
  },
  {
   "cell_type": "code",
   "execution_count": null,
   "metadata": {},
   "outputs": [],
   "source": [
    "## not all the same data types:\n",
    "random_stuff = ['8', True, 'frog', (8,7)]\n",
    "print(random_stuff)"
   ]
  },
  {
   "cell_type": "markdown",
   "metadata": {},
   "source": [
    "... or you could put absolutely nothing:"
   ]
  },
  {
   "cell_type": "code",
   "execution_count": null,
   "metadata": {},
   "outputs": [],
   "source": [
    "empty_list = []\n",
    "print(empty_list)"
   ]
  },
  {
   "cell_type": "markdown",
   "metadata": {},
   "source": [
    "### List Comprehension and Manipulation"
   ]
  },
  {
   "cell_type": "markdown",
   "metadata": {},
   "source": [
    "Checking the length of a list:"
   ]
  },
  {
   "cell_type": "code",
   "execution_count": null,
   "metadata": {},
   "outputs": [],
   "source": [
    "len(random_stuff)"
   ]
  },
  {
   "cell_type": "markdown",
   "metadata": {},
   "source": [
    "Adding an element:"
   ]
  },
  {
   "cell_type": "code",
   "execution_count": null,
   "metadata": {},
   "outputs": [],
   "source": [
    "list_of_animals.append('zebra') ## append is a function. Note that it updated the variable intrinsically\n",
    "print(list_of_animals)"
   ]
  },
  {
   "cell_type": "markdown",
   "metadata": {},
   "source": [
    "Accessing an element:"
   ]
  },
  {
   "cell_type": "code",
   "execution_count": null,
   "metadata": {},
   "outputs": [],
   "source": [
    "list_of_animals[0] ## Python starts indexing at 0!! This is very important to remember."
   ]
  },
  {
   "cell_type": "code",
   "execution_count": null,
   "metadata": {},
   "outputs": [],
   "source": [
    "print(list_of_animals[3])"
   ]
  },
  {
   "cell_type": "markdown",
   "metadata": {},
   "source": [
    "What happens if you try index 4?"
   ]
  },
  {
   "cell_type": "code",
   "execution_count": null,
   "metadata": {},
   "outputs": [],
   "source": []
  },
  {
   "cell_type": "code",
   "execution_count": null,
   "metadata": {},
   "outputs": [],
   "source": [
    "print(list_of_animals[-1]) ## index of -1 gives the last element in the list"
   ]
  },
  {
   "cell_type": "markdown",
   "metadata": {},
   "source": [
    "Removing an element:"
   ]
  },
  {
   "cell_type": "code",
   "execution_count": null,
   "metadata": {},
   "outputs": [],
   "source": [
    "print(list_of_animals)\n",
    "list_of_animals.remove('cat')\n",
    "print(list_of_animals)"
   ]
  },
  {
   "cell_type": "markdown",
   "metadata": {},
   "source": [
    "Changing an element:"
   ]
  },
  {
   "cell_type": "code",
   "execution_count": null,
   "metadata": {},
   "outputs": [],
   "source": [
    "print(list_of_animals)\n",
    "list_of_animals[0] = 'lion'\n",
    "print(list_of_animals)"
   ]
  },
  {
   "cell_type": "markdown",
   "metadata": {},
   "source": [
    "Finding various summary statistics:"
   ]
  },
  {
   "cell_type": "code",
   "execution_count": null,
   "metadata": {},
   "outputs": [],
   "source": [
    "number_of_pets = [5, 6, 8, 19]"
   ]
  },
  {
   "cell_type": "code",
   "execution_count": null,
   "metadata": {},
   "outputs": [],
   "source": [
    "min(number_of_pets)"
   ]
  },
  {
   "cell_type": "code",
   "execution_count": null,
   "metadata": {},
   "outputs": [],
   "source": [
    "max(number_of_pets)"
   ]
  },
  {
   "cell_type": "code",
   "execution_count": null,
   "metadata": {},
   "outputs": [],
   "source": [
    "sum(number_of_pets)"
   ]
  },
  {
   "cell_type": "markdown",
   "metadata": {},
   "source": [
    "# Tuples"
   ]
  },
  {
   "cell_type": "markdown",
   "metadata": {},
   "source": [
    "A less often-used data type is the tuple. They act similarly to lists:"
   ]
  },
  {
   "cell_type": "code",
   "execution_count": null,
   "metadata": {},
   "outputs": [],
   "source": [
    "tuple_example1 = (6,7)\n",
    "tuple_example2 = (6,'cat',4)\n",
    "print(tuple_example1)\n",
    "print(tuple_example2)"
   ]
  },
  {
   "cell_type": "markdown",
   "metadata": {},
   "source": [
    "but unlike lists, you CANNOT change the values in a tuple after it has been defined. This is the key difference."
   ]
  },
  {
   "cell_type": "markdown",
   "metadata": {},
   "source": [
    "# Booleans"
   ]
  },
  {
   "cell_type": "markdown",
   "metadata": {},
   "source": [
    "Booleans are essentially binary truth values: True or False."
   ]
  },
  {
   "cell_type": "code",
   "execution_count": null,
   "metadata": {},
   "outputs": [],
   "source": [
    "is_physics_fun = True\n",
    "today_is_Monday = False"
   ]
  },
  {
   "cell_type": "markdown",
   "metadata": {},
   "source": [
    "They can naturally arise when using **(in)equality operators**:"
   ]
  },
  {
   "cell_type": "code",
   "execution_count": null,
   "metadata": {},
   "outputs": [],
   "source": [
    "print(6 > 7)"
   ]
  },
  {
   "cell_type": "code",
   "execution_count": null,
   "metadata": {},
   "outputs": [],
   "source": [
    "print('cat' == 'cat') ## double equal sign checks for equality; single equal sign is for assignment"
   ]
  },
  {
   "cell_type": "markdown",
   "metadata": {},
   "source": [
    "In the above, it's checking that the two strings are identical, rather than performing some mathematics"
   ]
  },
  {
   "cell_type": "code",
   "execution_count": null,
   "metadata": {},
   "outputs": [],
   "source": [
    "print('cat' != 'cat')  # != is how we say \"not equal to\" in Python"
   ]
  },
  {
   "cell_type": "markdown",
   "metadata": {},
   "source": [
    "Again, you could store the output of some operation as follows:"
   ]
  },
  {
   "cell_type": "code",
   "execution_count": null,
   "metadata": {},
   "outputs": [],
   "source": [
    "result = (7 > 6)\n",
    "print(result)"
   ]
  },
  {
   "cell_type": "markdown",
   "metadata": {},
   "source": [
    "### You can also evaluate logical expressions using the **and** and **or** operators, for example:"
   ]
  },
  {
   "cell_type": "code",
   "execution_count": null,
   "metadata": {},
   "outputs": [],
   "source": [
    "is_physics_fun = True\n",
    "today_is_Monday = False\n",
    "today_is_Tuesday = True\n",
    "\n",
    "Physics_and_Monday = is_physics_fun and today_is_Monday\n",
    "print(Physics_and_Monday)"
   ]
  },
  {
   "cell_type": "code",
   "execution_count": null,
   "metadata": {},
   "outputs": [],
   "source": [
    "Physics_and_Tuesday = is_physics_fun and today_is_Tuesday\n",
    "print(Physics_and_Tuesday)"
   ]
  },
  {
   "cell_type": "markdown",
   "metadata": {},
   "source": [
    "Rules: \"and\" evaluates to True only if all arguments are True. \"or\" evaluates to True if EITHER argument is True:"
   ]
  },
  {
   "cell_type": "code",
   "execution_count": null,
   "metadata": {},
   "outputs": [],
   "source": [
    "Physics_or_Monday = Physics_and_Monday = is_physics_fun or today_is_Monday\n",
    "print(Physics_or_Monday)"
   ]
  },
  {
   "cell_type": "markdown",
   "metadata": {},
   "source": [
    "### We will go into this more in later weeks, but these values can also help with program flow/logic:"
   ]
  },
  {
   "cell_type": "code",
   "execution_count": null,
   "metadata": {},
   "outputs": [],
   "source": [
    "parents_are_home = True\n",
    "\n",
    "if parents_are_home == True: \n",
    "    print('no partying')\n",
    "    \n",
    "if parents_are_home != True: \n",
    "    print('We can party!')"
   ]
  },
  {
   "cell_type": "code",
   "execution_count": null,
   "metadata": {},
   "outputs": [],
   "source": [
    "particle_spin = -0.5\n",
    "\n",
    "if particle_spin > 0: \n",
    "    print('the particle has spin up')\n",
    "    \n",
    "else:\n",
    "    print('the particle has spin down')"
   ]
  },
  {
   "cell_type": "markdown",
   "metadata": {},
   "source": [
    "# Miscellanous Tool: input()"
   ]
  },
  {
   "cell_type": "markdown",
   "metadata": {},
   "source": [
    "You will likely never encounter this in a research context, but I can imagine that you may be interested in it anyway. What if we want to supply a variable's value using a keyboard?"
   ]
  },
  {
   "cell_type": "code",
   "execution_count": null,
   "metadata": {},
   "outputs": [],
   "source": [
    "variable_a = input()"
   ]
  },
  {
   "cell_type": "code",
   "execution_count": null,
   "metadata": {},
   "outputs": [],
   "source": [
    "print(variable_a)"
   ]
  },
  {
   "cell_type": "markdown",
   "metadata": {},
   "source": [
    "Again, you need not specify what you are giving variable_a. Python handles that automatically, so you might as well have put 'cat' or your favorite number."
   ]
  },
  {
   "cell_type": "markdown",
   "metadata": {},
   "source": [
    "# Now let's do a bit of practice. "
   ]
  },
  {
   "cell_type": "markdown",
   "metadata": {},
   "source": [
    "### 0. You are given the following list of scores. Find the average. (hint: look back at how we calculated the summary statistics earlier in the notebook!)"
   ]
  },
  {
   "cell_type": "code",
   "execution_count": null,
   "metadata": {},
   "outputs": [],
   "source": [
    "midterm_scores = [13,15,19,45,67,32,17,40,49,81,95,0]"
   ]
  },
  {
   "cell_type": "markdown",
   "metadata": {},
   "source": [
    "### 1. Write a simple program that takes in a radius given by the user and returns the area of a circle with that radius."
   ]
  },
  {
   "cell_type": "markdown",
   "metadata": {},
   "source": [
    "### 2. Write a program that takes a velocity given by the user (in m/s). If the velocity is greater than the speed of sound in air (343 m/s), then print \"Sonic Boom\". If the velocity is below that threshold, print a statement indicating how many m/s in velocity you are below the sonic boom threshold."
   ]
  }
 ],
 "metadata": {
  "kernelspec": {
   "display_name": "Python 3",
   "language": "python",
   "name": "python3"
  },
  "language_info": {
   "codemirror_mode": {
    "name": "ipython",
    "version": 3
   },
   "file_extension": ".py",
   "mimetype": "text/x-python",
   "name": "python",
   "nbconvert_exporter": "python",
   "pygments_lexer": "ipython3",
   "version": "3.7.4"
  }
 },
 "nbformat": 4,
 "nbformat_minor": 2
}
